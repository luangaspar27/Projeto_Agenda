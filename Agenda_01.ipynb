{
 "cells": [
  {
   "cell_type": "markdown",
   "metadata": {},
   "source": [
    "Instruções\n",
    "\n",
    "1 - Faça um programa que fará a leitura de indeterminados números e esses devem ser armazenados em um vetor.\n",
    "\n",
    "No final devem ser apresentados a soma, a média e o número de elementos desse vetor.\n",
    "\n",
    "A condição de saída é o usuário digitando o número 0 (zero).\n",
    "\n",
    "2 - Faça um programa realiza o cadastro de contatos de uma agenda. Cada contato possui os seguintes atributos: nome, telefone e e-mail.\n",
    "\n",
    "Desenvolva funcionalidades que\n",
    "\n",
    "Menu:\n",
    "\n",
    "a - Cadastra o registro\n",
    "\n",
    "b - Listar toda a agenda\n",
    "\n",
    "c - Sair\n",
    "\n",
    "O programa deverá apresentar o menu acima, e a condição de encerramento é o usuário digitar o \"9\""
   ]
  },
  {
   "cell_type": "code",
   "execution_count": null,
   "metadata": {},
   "outputs": [],
   "source": []
  }
 ],
 "metadata": {
  "kernelspec": {
   "display_name": "base",
   "language": "python",
   "name": "python3"
  },
  "language_info": {
   "codemirror_mode": {
    "name": "ipython",
    "version": 3
   },
   "file_extension": ".py",
   "mimetype": "text/x-python",
   "name": "python",
   "nbconvert_exporter": "python",
   "pygments_lexer": "ipython3",
   "version": "3.9.13"
  }
 },
 "nbformat": 4,
 "nbformat_minor": 2
}
